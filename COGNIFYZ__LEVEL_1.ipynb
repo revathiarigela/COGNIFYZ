{
  "nbformat": 4,
  "nbformat_minor": 0,
  "metadata": {
    "colab": {
      "provenance": []
    },
    "kernelspec": {
      "name": "python3",
      "display_name": "Python 3"
    },
    "language_info": {
      "name": "python"
    }
  },
  "cells": [
    {
      "cell_type": "markdown",
      "source": [
        "Level1-Task1\n"
      ],
      "metadata": {
        "id": "Ug9SYmcCksyt"
      }
    },
    {
      "cell_type": "code",
      "source": [
        "import pandas as pd"
      ],
      "metadata": {
        "id": "gqQlTpPfkxLo"
      },
      "execution_count": null,
      "outputs": []
    },
    {
      "cell_type": "code",
      "source": [
        "df = pd.read_csv('/content/Dataset.csv')"
      ],
      "metadata": {
        "id": "b12txy5wlry-"
      },
      "execution_count": null,
      "outputs": []
    },
    {
      "cell_type": "code",
      "source": [
        "num_rows, num_cols = df.shape\n",
        "print(f\"Number of rows: {num_rows}\")\n",
        "print(f\"Number of columns: {num_cols}\")\n"
      ],
      "metadata": {
        "colab": {
          "base_uri": "https://localhost:8080/"
        },
        "id": "Btfq9rXtmRCJ",
        "outputId": "46bc3277-2f15-496c-dd0b-51b3aad42d4f"
      },
      "execution_count": null,
      "outputs": [
        {
          "output_type": "stream",
          "name": "stdout",
          "text": [
            "Number of rows: 9551\n",
            "Number of columns: 21\n"
          ]
        }
      ]
    },
    {
      "cell_type": "code",
      "source": [
        "missing_values = df.isnull().sum()\n",
        "print(\"Missing values in each column:\")\n",
        "print(missing_values)"
      ],
      "metadata": {
        "colab": {
          "base_uri": "https://localhost:8080/"
        },
        "id": "nlJwNrBnmfoK",
        "outputId": "7416e0f0-1490-47bf-9999-86b91a1b90c4"
      },
      "execution_count": null,
      "outputs": [
        {
          "output_type": "stream",
          "name": "stdout",
          "text": [
            "Missing values in each column:\n",
            "Restaurant ID           0\n",
            "Restaurant Name         0\n",
            "Country Code            0\n",
            "City                    0\n",
            "Address                 0\n",
            "Locality                0\n",
            "Locality Verbose        0\n",
            "Longitude               0\n",
            "Latitude                0\n",
            "Cuisines                9\n",
            "Average Cost for two    0\n",
            "Currency                0\n",
            "Has Table booking       0\n",
            "Has Online delivery     0\n",
            "Is delivering now       0\n",
            "Switch to order menu    0\n",
            "Price range             0\n",
            "Aggregate rating        0\n",
            "Rating color            0\n",
            "Rating text             0\n",
            "Votes                   0\n",
            "dtype: int64\n"
          ]
        }
      ]
    },
    {
      "cell_type": "code",
      "source": [
        "target_column = 'Aggregate rating'\n",
        "target_distribution = df[target_column].value_counts()\n",
        "print(\"Distribution of the target variable:\")\n",
        "print(target_distribution)"
      ],
      "metadata": {
        "colab": {
          "base_uri": "https://localhost:8080/"
        },
        "id": "Tt499pVImjX6",
        "outputId": "1acd7490-e740-4f31-c1ef-42e8ca36749c"
      },
      "execution_count": null,
      "outputs": [
        {
          "output_type": "stream",
          "name": "stdout",
          "text": [
            "Distribution of the target variable:\n",
            "0.0    2148\n",
            "3.2     522\n",
            "3.1     519\n",
            "3.4     498\n",
            "3.3     483\n",
            "3.5     480\n",
            "3.0     468\n",
            "3.6     458\n",
            "3.7     427\n",
            "3.8     400\n",
            "2.9     381\n",
            "3.9     335\n",
            "2.8     315\n",
            "4.1     274\n",
            "4.0     266\n",
            "2.7     250\n",
            "4.2     221\n",
            "2.6     191\n",
            "4.3     174\n",
            "4.4     144\n",
            "2.5     110\n",
            "4.5      95\n",
            "2.4      87\n",
            "4.6      78\n",
            "4.9      61\n",
            "2.3      47\n",
            "4.7      42\n",
            "2.2      27\n",
            "4.8      25\n",
            "2.1      15\n",
            "2.0       7\n",
            "1.9       2\n",
            "1.8       1\n",
            "Name: Aggregate rating, dtype: int64\n"
          ]
        }
      ]
    },
    {
      "cell_type": "markdown",
      "source": [
        "**Level1- Task2**"
      ],
      "metadata": {
        "id": "8rAQYlW-nAZf"
      }
    },
    {
      "cell_type": "code",
      "source": [
        "import pandas as pd"
      ],
      "metadata": {
        "id": "m-QNAAKmnIKB"
      },
      "execution_count": null,
      "outputs": []
    },
    {
      "cell_type": "code",
      "source": [
        "df = pd.read_csv('/content/Dataset.csv')"
      ],
      "metadata": {
        "id": "drxbyRrkoIjK"
      },
      "execution_count": null,
      "outputs": []
    },
    {
      "cell_type": "code",
      "source": [
        "numeric_columns = df.select_dtypes(include=['int64', 'float64']).columns\n",
        "numeric_stats = df[numeric_columns].describe()\n",
        "print(\"Basic statistical measures for numerical columns:\")\n",
        "print(numeric_stats)"
      ],
      "metadata": {
        "colab": {
          "base_uri": "https://localhost:8080/"
        },
        "id": "OknIg-oUoNND",
        "outputId": "fd30053f-47ec-4a8d-ed57-11b2c34d2761"
      },
      "execution_count": null,
      "outputs": [
        {
          "output_type": "stream",
          "name": "stdout",
          "text": [
            "Basic statistical measures for numerical columns:\n",
            "       Restaurant ID  Country Code    Longitude     Latitude  \\\n",
            "count   9.551000e+03   9551.000000  9551.000000  9551.000000   \n",
            "mean    9.051128e+06     18.365616    64.126574    25.854381   \n",
            "std     8.791521e+06     56.750546    41.467058    11.007935   \n",
            "min     5.300000e+01      1.000000  -157.948486   -41.330428   \n",
            "25%     3.019625e+05      1.000000    77.081343    28.478713   \n",
            "50%     6.004089e+06      1.000000    77.191964    28.570469   \n",
            "75%     1.835229e+07      1.000000    77.282006    28.642758   \n",
            "max     1.850065e+07    216.000000   174.832089    55.976980   \n",
            "\n",
            "       Average Cost for two  Price range  Aggregate rating         Votes  \n",
            "count           9551.000000  9551.000000       9551.000000   9551.000000  \n",
            "mean            1199.210763     1.804837          2.666370    156.909748  \n",
            "std            16121.183073     0.905609          1.516378    430.169145  \n",
            "min                0.000000     1.000000          0.000000      0.000000  \n",
            "25%              250.000000     1.000000          2.500000      5.000000  \n",
            "50%              400.000000     2.000000          3.200000     31.000000  \n",
            "75%              700.000000     2.000000          3.700000    131.000000  \n",
            "max           800000.000000     4.000000          4.900000  10934.000000  \n"
          ]
        }
      ]
    },
    {
      "cell_type": "code",
      "source": [
        "print(\"Number of unique values in Country Code:\")\n",
        "print(df['Country Code'].nunique())\n"
      ],
      "metadata": {
        "colab": {
          "base_uri": "https://localhost:8080/"
        },
        "id": "f-OyE3mXoRor",
        "outputId": "d2c0cdda-9ee3-4b22-f3b9-035aa1c8de37"
      },
      "execution_count": null,
      "outputs": [
        {
          "output_type": "stream",
          "name": "stdout",
          "text": [
            "Number of unique values in Country Code:\n",
            "15\n"
          ]
        }
      ]
    },
    {
      "cell_type": "code",
      "source": [
        "print(\"Number of unique values in Country Code:\")\n",
        "print(df['Country Code'].nunique())"
      ],
      "metadata": {
        "colab": {
          "base_uri": "https://localhost:8080/"
        },
        "id": "7mT1PnidoZAA",
        "outputId": "3fe6814a-54d1-4df0-de8c-8b3f1f88380d"
      },
      "execution_count": null,
      "outputs": [
        {
          "output_type": "stream",
          "name": "stdout",
          "text": [
            "Number of unique values in Country Code:\n",
            "15\n"
          ]
        }
      ]
    },
    {
      "cell_type": "code",
      "source": [
        "print(\"Number of unique values in Cuisines:\")\n",
        "print(df['Cuisines'].nunique())"
      ],
      "metadata": {
        "colab": {
          "base_uri": "https://localhost:8080/"
        },
        "id": "YXuweILoogLM",
        "outputId": "e1eb5dd2-2324-4041-d579-9fa0107d9810"
      },
      "execution_count": null,
      "outputs": [
        {
          "output_type": "stream",
          "name": "stdout",
          "text": [
            "Number of unique values in Cuisines:\n",
            "1825\n"
          ]
        }
      ]
    },
    {
      "cell_type": "code",
      "source": [
        "top_cuisines = df['Cuisines'].value_counts().head(10)\n",
        "print(\"Top cuisines with the highest number of restaurants:\")\n",
        "print(top_cuisines)"
      ],
      "metadata": {
        "colab": {
          "base_uri": "https://localhost:8080/"
        },
        "id": "dBtYrYqAomk5",
        "outputId": "fc00fc06-0429-4d5b-f14c-a37509d1461a"
      },
      "execution_count": null,
      "outputs": [
        {
          "output_type": "stream",
          "name": "stdout",
          "text": [
            "Top cuisines with the highest number of restaurants:\n",
            "North Indian                      936\n",
            "North Indian, Chinese             511\n",
            "Chinese                           354\n",
            "Fast Food                         354\n",
            "North Indian, Mughlai             334\n",
            "Cafe                              299\n",
            "Bakery                            218\n",
            "North Indian, Mughlai, Chinese    197\n",
            "Bakery, Desserts                  170\n",
            "Street Food                       149\n",
            "Name: Cuisines, dtype: int64\n"
          ]
        }
      ]
    },
    {
      "cell_type": "code",
      "source": [
        "top_cities = df['City'].value_counts().head(10)\n",
        "print(\"Top cities with the highest number of restaurants:\")\n",
        "print(top_cities)"
      ],
      "metadata": {
        "colab": {
          "base_uri": "https://localhost:8080/"
        },
        "id": "EHy5K-JGosvD",
        "outputId": "212d1749-3d33-495d-b066-2cddd5f00a66"
      },
      "execution_count": null,
      "outputs": [
        {
          "output_type": "stream",
          "name": "stdout",
          "text": [
            "Top cities with the highest number of restaurants:\n",
            "New Delhi       5473\n",
            "Gurgaon         1118\n",
            "Noida           1080\n",
            "Faridabad        251\n",
            "Ghaziabad         25\n",
            "Bhubaneshwar      21\n",
            "Amritsar          21\n",
            "Ahmedabad         21\n",
            "Lucknow           21\n",
            "Guwahati          21\n",
            "Name: City, dtype: int64\n"
          ]
        }
      ]
    },
    {
      "cell_type": "markdown",
      "source": [
        "**Level1-Task3**"
      ],
      "metadata": {
        "id": "POBywtPvo2ss"
      }
    },
    {
      "cell_type": "code",
      "source": [
        "\n",
        "import pandas as pd\n",
        "import matplotlib.pyplot as plt\n",
        "import seaborn as sns\n",
        "import folium"
      ],
      "metadata": {
        "id": "uvhlZ-AMo6V5"
      },
      "execution_count": null,
      "outputs": []
    },
    {
      "cell_type": "code",
      "source": [
        "df = pd.read_csv('/content/Dataset.csv')"
      ],
      "metadata": {
        "id": "rXM5hm3Nqiiv"
      },
      "execution_count": null,
      "outputs": []
    },
    {
      "cell_type": "code",
      "source": [
        "map_center = [df['Latitude'].iloc[0], df['Longitude'].iloc[0]]\n",
        "restaurant_map = folium.Map(location=map_center, zoom_start=12)"
      ],
      "metadata": {
        "id": "WS5LSV6Eqm9n"
      },
      "execution_count": null,
      "outputs": []
    },
    {
      "cell_type": "code",
      "source": [
        "for index, row in df.iterrows():\n",
        "    folium.Marker([row['Latitude'], row['Longitude']], popup=row['Restaurant Name']).add_to(restaurant_map)"
      ],
      "metadata": {
        "id": "Xth0svkXqsJn"
      },
      "execution_count": null,
      "outputs": []
    },
    {
      "cell_type": "code",
      "source": [
        "restaurant_map.save('restaurant_map.html')"
      ],
      "metadata": {
        "id": "uAYyiHUbqxxc"
      },
      "execution_count": null,
      "outputs": []
    },
    {
      "cell_type": "code",
      "source": [
        "restaurant_count_per_city = df['City'].value_counts()\n",
        "print(\"Number of restaurants per city:\")\n",
        "print(restaurant_count_per_city)"
      ],
      "metadata": {
        "colab": {
          "base_uri": "https://localhost:8080/"
        },
        "id": "LtTo_Bk3q1Vv",
        "outputId": "459acabd-22ae-4e1a-b0ca-2fa03fd0bcd1"
      },
      "execution_count": null,
      "outputs": [
        {
          "output_type": "stream",
          "name": "stdout",
          "text": [
            "Number of restaurants per city:\n",
            "New Delhi           5473\n",
            "Gurgaon             1118\n",
            "Noida               1080\n",
            "Faridabad            251\n",
            "Ghaziabad             25\n",
            "                    ... \n",
            "Panchkula              1\n",
            "Mc Millan              1\n",
            "Mayfield               1\n",
            "Macedon                1\n",
            "Vineland Station       1\n",
            "Name: City, Length: 141, dtype: int64\n"
          ]
        }
      ]
    },
    {
      "cell_type": "code",
      "source": [
        "if 'df' not in locals() or 'country' not in df.columns:\n",
        "    print(\"Error: DataFrame 'df' or 'country' column not found.\")\n",
        "else:\n",
        "    # Calculate the number of restaurants per country\n",
        "    restaurant_count_per_country = df['country'].value_counts()\n",
        "\n",
        "    # Print the result if there are any entries in the DataFrame\n",
        "    if not restaurant_count_per_country.empty:\n",
        "        print(\"Number of restaurants per country:\")\n",
        "        print(restaurant_count_per_country)\n",
        "    else:\n",
        "        print(\"No data available in the DataFrame.\")"
      ],
      "metadata": {
        "colab": {
          "base_uri": "https://localhost:8080/"
        },
        "id": "KM7e_3e9q9OE",
        "outputId": "2a1502ed-ce84-4175-91e3-a7f31a31fe01"
      },
      "execution_count": null,
      "outputs": [
        {
          "output_type": "stream",
          "name": "stdout",
          "text": [
            "Error: DataFrame 'df' or 'country' column not found.\n"
          ]
        }
      ]
    },
    {
      "cell_type": "code",
      "source": [
        "sns.scatterplot(x='Longitude', y='Latitude', hue='Aggregate rating', data=df)\n",
        "plt.title('Restaurant Location vs. Aggregate Rating')\n",
        "plt.xlabel('Longitude')\n",
        "plt.ylabel('Latitude')\n",
        "plt.show()\n"
      ],
      "metadata": {
        "colab": {
          "base_uri": "https://localhost:8080/",
          "height": 472
        },
        "id": "5c8Afj5hrOqT",
        "outputId": "14d73161-5530-42dc-e5b6-d97b74b707e5"
      },
      "execution_count": null,
      "outputs": [
        {
          "output_type": "display_data",
          "data": {
            "text/plain": [
              "<Figure size 640x480 with 1 Axes>"
            ],
            "image/png": "[encoded data removed]"
          },
          "metadata": {}
        }
      ]
    },
    {
      "cell_type": "code",
      "source": [
        "correlation = df[['Latitude', 'Longitude', 'Aggregate rating']].corr()\n",
        "print(\"Correlation between latitude, longitude, and rating:\")\n",
        "print(correlation)\n"
      ],
      "metadata": {
        "colab": {
          "base_uri": "https://localhost:8080/"
        },
        "id": "H7XoftelrNZb",
        "outputId": "ee752b6e-fc07-4a5f-f32f-57466c5cb300"
      },
      "execution_count": null,
      "outputs": [
        {
          "output_type": "stream",
          "name": "stdout",
          "text": [
            "Correlation between latitude, longitude, and rating:\n",
            "                  Latitude  Longitude  Aggregate rating\n",
            "Latitude          1.000000   0.043207          0.000516\n",
            "Longitude         0.043207   1.000000         -0.116818\n",
            "Aggregate rating  0.000516  -0.116818          1.000000\n"
          ]
        }
      ]
    }
  ]
}