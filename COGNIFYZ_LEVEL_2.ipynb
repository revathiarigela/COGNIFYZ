{
  "cells": [
    {
      "cell_type": "markdown",
      "metadata": {
        "id": "view-in-github",
        "colab_type": "text"
      },
      "source": [
        "<a href=\"https://colab.research.google.com/github/revathiarigela/COGNIFYZ/blob/main/COGNIFYZ_LEVEL_2.ipynb\" target=\"_parent\"><img src=\"https://colab.research.google.com/assets/colab-badge.svg\" alt=\"Open In Colab\"/></a>"
      ]
    },
    {
      "cell_type": "markdown",
      "metadata": {
        "id": "HFWGMHqfwlJf"
      },
      "source": [
        "LEVEL 2 TASK 1"
      ]
    },
    {
      "cell_type": "markdown",
      "source": [
        "Task1\n",
        "\n",
        "Determine the percentage of restaurants thatoffer table booking and online delivery.\n",
        "\n",
        "Compare the average ratings of restaurantswith table booking and those without.\n",
        "\n",
        "Analyze the availability of online deliveryamong restaurants with different price ranges"
      ],
      "metadata": {
        "id": "ouHtNY6PokZF"
      }
    },
    {
      "cell_type": "markdown",
      "source": [],
      "metadata": {
        "id": "ZCxWwRi_oj_-"
      }
    },
    {
      "cell_type": "code",
      "execution_count": null,
      "metadata": {
        "id": "2H7cnMiwMbeL"
      },
      "outputs": [],
      "source": [
        "# import python libraries\n",
        "\n",
        "import numpy as np\n",
        "import pandas as pd\n",
        "import matplotlib.pyplot as plt # visualizing data\n",
        "%matplotlib inline\n",
        "import seaborn as sns\n",
        "\n"
      ]
    },
    {
      "cell_type": "code",
      "execution_count": null,
      "metadata": {
        "id": "tFquVt4MMvuf"
      },
      "outputs": [],
      "source": [
        "# import csv file\n",
        "df = pd.read_csv('/content/Dataset.csv', encoding= 'unicode_escape')"
      ]
    },
    {
      "cell_type": "code",
      "execution_count": null,
      "metadata": {
        "id": "P-81YxlNxL7O",
        "colab": {
          "base_uri": "https://localhost:8080/"
        },
        "outputId": "1e6742e0-c310-4bd8-f6e0-84527d474eaf"
      },
      "outputs": [
        {
          "output_type": "stream",
          "name": "stdout",
          "text": [
            "Percentage of restaurants that offer table booking: 12.12%\n",
            "Percentage of restaurants that offer online delivery: 25.66%\n"
          ]
        }
      ],
      "source": [
        "# Count the occurrences of 'Yes' and 'No' for table booking\n",
        "table_booking_counts = df['Has Table booking'].value_counts()\n",
        "\n",
        "# Calculate the percentage of restaurants that offer table booking\n",
        "percentage_table_booking = (table_booking_counts['Yes'] / len(df)) * 100\n",
        "\n",
        "# Count the occurrences of 'Yes' and 'No' for online delivery\n",
        "online_delivery_counts = df['Has Online delivery'].value_counts()\n",
        "\n",
        "# Calculate the percentage of restaurants that offer online delivery\n",
        "percentage_online_delivery = (online_delivery_counts['Yes'] / len(df)) * 100\n",
        "\n",
        "# Display the results\n",
        "print(f\"Percentage of restaurants that offer table booking: {percentage_table_booking:.2f}%\")\n",
        "print(f\"Percentage of restaurants that offer online delivery: {percentage_online_delivery:.2f}%\")\n"
      ]
    },
    {
      "cell_type": "code",
      "source": [
        "# Calculate the total number of restaurants in each price range\n",
        "total_restaurants_by_price_range = df['Price range'].value_counts()\n",
        "\n",
        "# Initialize a dictionary to store the percentage of restaurants offering online delivery for each price range\n",
        "percentage_online_delivery_by_price_range = {}\n",
        "\n",
        "# Calculate the percentage of restaurants offering online delivery for each price range\n",
        "for price_range in total_restaurants_by_price_range.index:\n",
        "    # Filter the DataFrame for the current price range\n",
        "    subset_df = df[df['Price range'] == price_range]\n",
        "\n",
        "    # Count the occurrences of 'Yes' and 'No' for online delivery in the subset DataFrame\n",
        "    online_delivery_counts = subset_df['Has Online delivery'].value_counts()\n",
        "\n",
        "    # Calculate the percentage of 'Yes' (online delivery) for the current price range\n",
        "    percentage_online_delivery = (online_delivery_counts.get('Yes', 0) / total_restaurants_by_price_range[price_range]) * 100\n",
        "\n",
        "    # Store the percentage in the dictionary\n",
        "    percentage_online_delivery_by_price_range[price_range] = percentage_online_delivery\n",
        "\n",
        "# Display the result\n",
        "print(\"Percentage of Restaurants Offering Online Delivery by Price Range:\")\n",
        "print(percentage_online_delivery_by_price_range)"
      ],
      "metadata": {
        "colab": {
          "base_uri": "https://localhost:8080/"
        },
        "id": "L76yOdyppWsy",
        "outputId": "394e3322-c7d6-477b-c81d-6e37316c9620"
      },
      "execution_count": null,
      "outputs": [
        {
          "output_type": "stream",
          "name": "stdout",
          "text": [
            "Percentage of Restaurants Offering Online Delivery by Price Range:\n",
            "{1: 15.774077407740775, 2: 41.310632830067455, 3: 29.19034090909091, 4: 9.044368600682594}\n"
          ]
        }
      ]
    },
    {
      "cell_type": "markdown",
      "source": [
        "TASK 2"
      ],
      "metadata": {
        "id": "l0DraO4hpc8E"
      }
    },
    {
      "cell_type": "markdown",
      "source": [
        "\n",
        "Task: Price Range Analysis Determine the most common price range among all the restaurants.\n",
        "\n",
        "Calculate the average rating for each price range.\n",
        "\n",
        "Identify the color that represents the highest average rating among different price ranges."
      ],
      "metadata": {
        "id": "7oDzU5lrpfko"
      }
    },
    {
      "cell_type": "code",
      "source": [
        "price_range_counts = df['Price range'].value_counts()\n",
        "\n",
        "# Get the most common price range (the one with the highest count)\n",
        "most_common_price_range = price_range_counts.idxmax()\n",
        "\n",
        "# Display the result\n",
        "print(\"Most Common Price Range:\", most_common_price_range)"
      ],
      "metadata": {
        "colab": {
          "base_uri": "https://localhost:8080/"
        },
        "id": "FTvYYyUTpasy",
        "outputId": "55d4044e-6a52-462f-9a5a-2f0105503217"
      },
      "execution_count": null,
      "outputs": [
        {
          "output_type": "stream",
          "name": "stdout",
          "text": [
            "Most Common Price Range: 1\n"
          ]
        }
      ]
    },
    {
      "cell_type": "code",
      "source": [
        "# Calculate the average rating for each price range\n",
        "average_rating_by_price_range = df.groupby('Price range')['Aggregate rating'].mean()\n",
        "\n",
        "# Display the result\n",
        "print(\"Average Rating for Each Price Range:\")\n",
        "print(average_rating_by_price_range)"
      ],
      "metadata": {
        "colab": {
          "base_uri": "https://localhost:8080/"
        },
        "id": "aeiXUU7BpnYc",
        "outputId": "22bd1701-6d7d-4059-dd5e-6fc9d84b0d8c"
      },
      "execution_count": null,
      "outputs": [
        {
          "output_type": "stream",
          "name": "stdout",
          "text": [
            "Average Rating for Each Price Range:\n",
            "Price range\n",
            "1    1.999887\n",
            "2    2.941054\n",
            "3    3.683381\n",
            "4    3.817918\n",
            "Name: Aggregate rating, dtype: float64\n"
          ]
        }
      ]
    },
    {
      "cell_type": "code",
      "source": [
        "# Calculate the average rating for each price range\n",
        "average_rating_by_price_range = df.groupby('Price range')['Aggregate rating'].mean()\n",
        "\n",
        "# Get the price range with the highest average rating\n",
        "highest_average_rating_price_range = average_rating_by_price_range.idxmax()\n",
        "\n",
        "# Filter the DataFrame to get the rows for the price range with the highest average rating\n",
        "highest_rating_rows = df[df['Price range'] == highest_average_rating_price_range]\n",
        "\n",
        "# Get the color associated with the highest average rating\n",
        "highest_average_rating_color = highest_rating_rows['Rating color'].iloc[0]\n",
        "\n",
        "# Display the result\n",
        "print(\"Color that Represents the Highest Average Rating:\", highest_average_rating_color)"
      ],
      "metadata": {
        "colab": {
          "base_uri": "https://localhost:8080/"
        },
        "id": "u9_L3svypsnw",
        "outputId": "e929f700-c133-471d-abdd-3695b21d7946"
      },
      "execution_count": null,
      "outputs": [
        {
          "output_type": "stream",
          "name": "stdout",
          "text": [
            "Color that Represents the Highest Average Rating: Green\n"
          ]
        }
      ]
    },
    {
      "cell_type": "markdown",
      "source": [
        "TASK 3"
      ],
      "metadata": {
        "id": "VixZ6ZiMpywz"
      }
    },
    {
      "cell_type": "markdown",
      "source": [
        "Task: Feature Engineering\n",
        "\n",
        "Extract additional features from the existingcolumns, such as the length of the restaurantname or address.\n",
        "\n",
        "Create new features like \"Has Table Booking\"or \"Has Online Delivery\" by encodingcategorical variables."
      ],
      "metadata": {
        "id": "KH7dx-YEp0Qm"
      }
    },
    {
      "cell_type": "code",
      "source": [
        "# Assuming your DataFrame is named 'df'\n",
        "\n",
        "# Create new columns for the length of the restaurant name and address\n",
        "df['Restaurant Name Length'] = df['Restaurant Name'].apply(lambda x: len(x))\n",
        "df['Address Length'] = df['Address'].apply(lambda x: len(x))\n",
        "\n",
        "# Display the updated DataFrame with the new columns\n",
        "print(df)"
      ],
      "metadata": {
        "colab": {
          "base_uri": "https://localhost:8080/"
        },
        "id": "_CB74zg7pxD4",
        "outputId": "eceb8040-bf79-4275-dbb5-754e1e65d876"
      },
      "execution_count": null,
      "outputs": [
        {
          "output_type": "stream",
          "name": "stdout",
          "text": [
            "      ï»¿Restaurant ID           Restaurant Name  Country Code  \\\n",
            "0              6317637          Le Petit Souffle           162   \n",
            "1              6304287          Izakaya Kikufuji           162   \n",
            "2              6300002    Heat - Edsa Shangri-La           162   \n",
            "3              6318506                      Ooma           162   \n",
            "4              6314302               Sambo Kojin           162   \n",
            "...                ...                       ...           ...   \n",
            "9546           5915730              NamlÛ± Gurme           208   \n",
            "9547           5908749         Ceviz Aï¿½ï¿½acÛ±           208   \n",
            "9548           5915807                     Huqqa           208   \n",
            "9549           5916112         Aï¿½ï¿½ï¿½k Kahve           208   \n",
            "9550           5927402  Walter's Coffee Roastery           208   \n",
            "\n",
            "                  City                                            Address  \\\n",
            "0          Makati City  Third Floor, Century City Mall, Kalayaan Avenu...   \n",
            "1          Makati City  Little Tokyo, 2277 Chino Roces Avenue, Legaspi...   \n",
            "2     Mandaluyong City  Edsa Shangri-La, 1 Garden Way, Ortigas, Mandal...   \n",
            "3     Mandaluyong City  Third Floor, Mega Fashion Hall, SM Megamall, O...   \n",
            "4     Mandaluyong City  Third Floor, Mega Atrium, SM Megamall, Ortigas...   \n",
            "...                ...                                                ...   \n",
            "9546     ï¿½ï¿½stanbul  Kemankeï¿½ï¿½ Karamustafa Paï¿½ï¿½a Mahallesi,...   \n",
            "9547     ï¿½ï¿½stanbul  Koï¿½ï¿½uyolu Mahallesi, Muhittin ï¿½ï¿½stï¿½_...   \n",
            "9548     ï¿½ï¿½stanbul  Kuruï¿½_eï¿½ï¿½me Mahallesi, Muallim Naci Cadd...   \n",
            "9549     ï¿½ï¿½stanbul  Kuruï¿½_eï¿½ï¿½me Mahallesi, Muallim Naci Cadd...   \n",
            "9550     ï¿½ï¿½stanbul  Cafeaï¿½ï¿½a Mahallesi, BademaltÛ± Sokak, No 2...   \n",
            "\n",
            "                                        Locality  \\\n",
            "0      Century City Mall, Poblacion, Makati City   \n",
            "1     Little Tokyo, Legaspi Village, Makati City   \n",
            "2     Edsa Shangri-La, Ortigas, Mandaluyong City   \n",
            "3         SM Megamall, Ortigas, Mandaluyong City   \n",
            "4         SM Megamall, Ortigas, Mandaluyong City   \n",
            "...                                          ...   \n",
            "9546                                  Karakï¿½_y   \n",
            "9547                               Koï¿½ï¿½uyolu   \n",
            "9548                           Kuruï¿½_eï¿½ï¿½me   \n",
            "9549                           Kuruï¿½_eï¿½ï¿½me   \n",
            "9550                                        Moda   \n",
            "\n",
            "                                       Locality Verbose   Longitude  \\\n",
            "0     Century City Mall, Poblacion, Makati City, Mak...  121.027535   \n",
            "1     Little Tokyo, Legaspi Village, Makati City, Ma...  121.014101   \n",
            "2     Edsa Shangri-La, Ortigas, Mandaluyong City, Ma...  121.056831   \n",
            "3     SM Megamall, Ortigas, Mandaluyong City, Mandal...  121.056475   \n",
            "4     SM Megamall, Ortigas, Mandaluyong City, Mandal...  121.057508   \n",
            "...                                                 ...         ...   \n",
            "9546                          Karakï¿½_y, ï¿½ï¿½stanbul   28.977392   \n",
            "9547                       Koï¿½ï¿½uyolu, ï¿½ï¿½stanbul   29.041297   \n",
            "9548                   Kuruï¿½_eï¿½ï¿½me, ï¿½ï¿½stanbul   29.034640   \n",
            "9549                   Kuruï¿½_eï¿½ï¿½me, ï¿½ï¿½stanbul   29.036019   \n",
            "9550                                Moda, ï¿½ï¿½stanbul   29.026016   \n",
            "\n",
            "       Latitude                          Cuisines  ...  Has Online delivery  \\\n",
            "0     14.565443        French, Japanese, Desserts  ...                   No   \n",
            "1     14.553708                          Japanese  ...                   No   \n",
            "2     14.581404  Seafood, Asian, Filipino, Indian  ...                   No   \n",
            "3     14.585318                   Japanese, Sushi  ...                   No   \n",
            "4     14.584450                  Japanese, Korean  ...                   No   \n",
            "...         ...                               ...  ...                  ...   \n",
            "9546  41.022793                           Turkish  ...                   No   \n",
            "9547  41.009847   World Cuisine, Patisserie, Cafe  ...                   No   \n",
            "9548  41.055817            Italian, World Cuisine  ...                   No   \n",
            "9549  41.057979                   Restaurant Cafe  ...                   No   \n",
            "9550  40.984776                              Cafe  ...                   No   \n",
            "\n",
            "     Is delivering now Switch to order menu Price range Aggregate rating  \\\n",
            "0                   No                   No           3              4.8   \n",
            "1                   No                   No           3              4.5   \n",
            "2                   No                   No           4              4.4   \n",
            "3                   No                   No           4              4.9   \n",
            "4                   No                   No           4              4.8   \n",
            "...                ...                  ...         ...              ...   \n",
            "9546                No                   No           3              4.1   \n",
            "9547                No                   No           3              4.2   \n",
            "9548                No                   No           4              3.7   \n",
            "9549                No                   No           4              4.0   \n",
            "9550                No                   No           2              4.0   \n",
            "\n",
            "     Rating color  Rating text  Votes Restaurant Name Length Address Length  \n",
            "0      Dark Green    Excellent    314                     16             71  \n",
            "1      Dark Green    Excellent    591                     16             67  \n",
            "2           Green    Very Good    270                     22             56  \n",
            "3      Dark Green    Excellent    365                      4             70  \n",
            "4      Dark Green    Excellent    229                     11             64  \n",
            "...           ...          ...    ...                    ...            ...  \n",
            "9546        Green    Very Good    788                     12            123  \n",
            "9547        Green    Very Good   1034                     17             98  \n",
            "9548       Yellow         Good    661                      5             91  \n",
            "9549        Green    Very Good    901                     17             93  \n",
            "9550        Green    Very Good    591                     24             77  \n",
            "\n",
            "[9551 rows x 23 columns]\n"
          ]
        }
      ]
    },
    {
      "cell_type": "code",
      "source": [
        "# Assuming your DataFrame is named 'df'\n",
        "\n",
        "# Convert 'Has Table booking' column to a binary numerical feature\n",
        "df['Has Table Booking'] = df['Has Table booking'].map({'Yes': 1, 'No': 0})\n",
        "\n",
        "# Convert 'Has Online delivery' column to a binary numerical feature\n",
        "df['Has Online Delivery'] = df['Has Online delivery'].map({'Yes': 1, 'No': 0})\n",
        "\n",
        "# Display the updated DataFrame with the new binary numerical features\n",
        "print(df)"
      ],
      "metadata": {
        "colab": {
          "base_uri": "https://localhost:8080/"
        },
        "id": "s9yRTmw2p6lY",
        "outputId": "95419a28-35ad-4157-cb85-8d1c8eec1c2e"
      },
      "execution_count": null,
      "outputs": [
        {
          "output_type": "stream",
          "name": "stdout",
          "text": [
            "      ï»¿Restaurant ID           Restaurant Name  Country Code  \\\n",
            "0              6317637          Le Petit Souffle           162   \n",
            "1              6304287          Izakaya Kikufuji           162   \n",
            "2              6300002    Heat - Edsa Shangri-La           162   \n",
            "3              6318506                      Ooma           162   \n",
            "4              6314302               Sambo Kojin           162   \n",
            "...                ...                       ...           ...   \n",
            "9546           5915730              NamlÛ± Gurme           208   \n",
            "9547           5908749         Ceviz Aï¿½ï¿½acÛ±           208   \n",
            "9548           5915807                     Huqqa           208   \n",
            "9549           5916112         Aï¿½ï¿½ï¿½k Kahve           208   \n",
            "9550           5927402  Walter's Coffee Roastery           208   \n",
            "\n",
            "                  City                                            Address  \\\n",
            "0          Makati City  Third Floor, Century City Mall, Kalayaan Avenu...   \n",
            "1          Makati City  Little Tokyo, 2277 Chino Roces Avenue, Legaspi...   \n",
            "2     Mandaluyong City  Edsa Shangri-La, 1 Garden Way, Ortigas, Mandal...   \n",
            "3     Mandaluyong City  Third Floor, Mega Fashion Hall, SM Megamall, O...   \n",
            "4     Mandaluyong City  Third Floor, Mega Atrium, SM Megamall, Ortigas...   \n",
            "...                ...                                                ...   \n",
            "9546     ï¿½ï¿½stanbul  Kemankeï¿½ï¿½ Karamustafa Paï¿½ï¿½a Mahallesi,...   \n",
            "9547     ï¿½ï¿½stanbul  Koï¿½ï¿½uyolu Mahallesi, Muhittin ï¿½ï¿½stï¿½_...   \n",
            "9548     ï¿½ï¿½stanbul  Kuruï¿½_eï¿½ï¿½me Mahallesi, Muallim Naci Cadd...   \n",
            "9549     ï¿½ï¿½stanbul  Kuruï¿½_eï¿½ï¿½me Mahallesi, Muallim Naci Cadd...   \n",
            "9550     ï¿½ï¿½stanbul  Cafeaï¿½ï¿½a Mahallesi, BademaltÛ± Sokak, No 2...   \n",
            "\n",
            "                                        Locality  \\\n",
            "0      Century City Mall, Poblacion, Makati City   \n",
            "1     Little Tokyo, Legaspi Village, Makati City   \n",
            "2     Edsa Shangri-La, Ortigas, Mandaluyong City   \n",
            "3         SM Megamall, Ortigas, Mandaluyong City   \n",
            "4         SM Megamall, Ortigas, Mandaluyong City   \n",
            "...                                          ...   \n",
            "9546                                  Karakï¿½_y   \n",
            "9547                               Koï¿½ï¿½uyolu   \n",
            "9548                           Kuruï¿½_eï¿½ï¿½me   \n",
            "9549                           Kuruï¿½_eï¿½ï¿½me   \n",
            "9550                                        Moda   \n",
            "\n",
            "                                       Locality Verbose   Longitude  \\\n",
            "0     Century City Mall, Poblacion, Makati City, Mak...  121.027535   \n",
            "1     Little Tokyo, Legaspi Village, Makati City, Ma...  121.014101   \n",
            "2     Edsa Shangri-La, Ortigas, Mandaluyong City, Ma...  121.056831   \n",
            "3     SM Megamall, Ortigas, Mandaluyong City, Mandal...  121.056475   \n",
            "4     SM Megamall, Ortigas, Mandaluyong City, Mandal...  121.057508   \n",
            "...                                                 ...         ...   \n",
            "9546                          Karakï¿½_y, ï¿½ï¿½stanbul   28.977392   \n",
            "9547                       Koï¿½ï¿½uyolu, ï¿½ï¿½stanbul   29.041297   \n",
            "9548                   Kuruï¿½_eï¿½ï¿½me, ï¿½ï¿½stanbul   29.034640   \n",
            "9549                   Kuruï¿½_eï¿½ï¿½me, ï¿½ï¿½stanbul   29.036019   \n",
            "9550                                Moda, ï¿½ï¿½stanbul   29.026016   \n",
            "\n",
            "       Latitude                          Cuisines  ...  Switch to order menu  \\\n",
            "0     14.565443        French, Japanese, Desserts  ...                    No   \n",
            "1     14.553708                          Japanese  ...                    No   \n",
            "2     14.581404  Seafood, Asian, Filipino, Indian  ...                    No   \n",
            "3     14.585318                   Japanese, Sushi  ...                    No   \n",
            "4     14.584450                  Japanese, Korean  ...                    No   \n",
            "...         ...                               ...  ...                   ...   \n",
            "9546  41.022793                           Turkish  ...                    No   \n",
            "9547  41.009847   World Cuisine, Patisserie, Cafe  ...                    No   \n",
            "9548  41.055817            Italian, World Cuisine  ...                    No   \n",
            "9549  41.057979                   Restaurant Cafe  ...                    No   \n",
            "9550  40.984776                              Cafe  ...                    No   \n",
            "\n",
            "     Price range Aggregate rating Rating color Rating text Votes  \\\n",
            "0              3              4.8   Dark Green   Excellent   314   \n",
            "1              3              4.5   Dark Green   Excellent   591   \n",
            "2              4              4.4        Green   Very Good   270   \n",
            "3              4              4.9   Dark Green   Excellent   365   \n",
            "4              4              4.8   Dark Green   Excellent   229   \n",
            "...          ...              ...          ...         ...   ...   \n",
            "9546           3              4.1        Green   Very Good   788   \n",
            "9547           3              4.2        Green   Very Good  1034   \n",
            "9548           4              3.7       Yellow        Good   661   \n",
            "9549           4              4.0        Green   Very Good   901   \n",
            "9550           2              4.0        Green   Very Good   591   \n",
            "\n",
            "      Restaurant Name Length  Address Length Has Table Booking  \\\n",
            "0                         16              71                 1   \n",
            "1                         16              67                 1   \n",
            "2                         22              56                 1   \n",
            "3                          4              70                 0   \n",
            "4                         11              64                 1   \n",
            "...                      ...             ...               ...   \n",
            "9546                      12             123                 0   \n",
            "9547                      17              98                 0   \n",
            "9548                       5              91                 0   \n",
            "9549                      17              93                 0   \n",
            "9550                      24              77                 0   \n",
            "\n",
            "     Has Online Delivery  \n",
            "0                      0  \n",
            "1                      0  \n",
            "2                      0  \n",
            "3                      0  \n",
            "4                      0  \n",
            "...                  ...  \n",
            "9546                   0  \n",
            "9547                   0  \n",
            "9548                   0  \n",
            "9549                   0  \n",
            "9550                   0  \n",
            "\n",
            "[9551 rows x 25 columns]\n"
          ]
        }
      ]
    }
  ],
  "metadata": {
    "colab": {
      "provenance": [],
      "authorship_tag": "ABX9TyP63BLFHBxAq4PEGA3DeK4y",
      "include_colab_link": true
    },
    "kernelspec": {
      "display_name": "Python 3",
      "name": "python3"
    },
    "language_info": {
      "name": "python"
    }
  },
  "nbformat": 4,
  "nbformat_minor": 0
}